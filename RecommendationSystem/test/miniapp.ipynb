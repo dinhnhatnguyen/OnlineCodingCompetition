{
 "cells": [
  {
   "cell_type": "markdown",
   "id": "c1a905ae",
   "metadata": {},
   "source": [
    "<h1>ChatBOTAgent</h1>"
   ]
  },
  {
   "cell_type": "code",
   "execution_count": 2,
   "id": "c691a391",
   "metadata": {},
   "outputs": [],
   "source": [
    "import pandas as pd\n",
    "from fastapi.responses import JSONResponse\n",
    "from sklearn.feature_extraction.text import TfidfVectorizer\n",
    "from sklearn.metrics.pairwise import linear_kernel"
   ]
  },
  {
   "cell_type": "code",
   "execution_count": 3,
   "id": "d1c04527",
   "metadata": {},
   "outputs": [],
   "source": [
    "# Đọc dữ liệu\n",
    "# Đảm bảo đường dẫn file CSV đúng với môi trường thực tế\n",
    "df = pd.read_csv('D:/UbuntuSystem/OnlineCodingCompetition/RecommendationSystem/dataset/goodreads_data.csv')  # Sửa lại đường dẫn nếu cần\n",
    "\n",
    "df = df.dropna(subset=['Description'])  # Bỏ sách thiếu mô tả\n",
    "\n",
    "# Tính toán độ tương tự giữa các sách\n",
    "tfidf = TfidfVectorizer(stop_words='english')\n",
    "tfidf_matrix = tfidf.fit_transform(df['Description'])\n",
    "cosine_sim = linear_kernel(tfidf_matrix, tfidf_matrix)\n",
    "\n",
    "indices = pd.Series(df.index, index=df['Book']).drop_duplicates()"
   ]
  },
  {
   "cell_type": "code",
   "execution_count": 4,
   "id": "24c8bd03",
   "metadata": {},
   "outputs": [],
   "source": [
    "def recommend_books(title:str, num_recommendations:int = 5):\n",
    "    print(f\"Received request to recommend books similar to: {title} with {num_recommendations} recommendations.\")\n",
    "\n",
    "    idx = indices.get(title)\n",
    "    if idx is None:\n",
    "        return JSONResponse(content={\"error\": f\"Không tìm thấy sách '{title}' trong dữ liệu.\"}, status_code=404)\n",
    "    sim_scores = list(enumerate(cosine_sim[idx]))\n",
    "    sim_scores = sorted(sim_scores, key=lambda x: x[1], reverse=True)[1:num_recommendations+1]\n",
    "    book_indices = [i[0] for i in sim_scores]\n",
    "    results = df.iloc[book_indices][['Book', 'Author', 'Genres', 'Description']].to_dict(orient='records')\n",
    "    return {\"recommendations\": results}"
   ]
  },
  {
   "cell_type": "code",
   "execution_count": 5,
   "id": "5b7275f8",
   "metadata": {},
   "outputs": [],
   "source": [
    "def recommend_personalized_books(data: dict):\n",
    "    data = data.json()\n",
    "    user_id = data.get('user_id')\n",
    "    num_recommendations = data.get('num_recommendations', 5)\n",
    "\n",
    "    # Giả sử có một hàm để lấy lịch sử đọc sách của người dùng\n",
    "    # history = get_user_reading_history(user_id)\n",
    "    history = []  # Thay thế bằng hàm thực tế để lấy lịch sử đọc sách\n",
    "    if not history:\n",
    "        return JSONResponse(content={\"error\": \"Không có lịch sử đọc sách cho người dùng.\"}, status_code=404)\n",
    "    # Tính toán độ tương tự giữa sách trong lịch sử đọc\n",
    "    history_indices = [indices.get(title) for title in history if indices.get(title) is not None]\n",
    "    if not history_indices:\n",
    "        return JSONResponse(content={\"error\": \"Không tìm thấy sách trong lịch sử đọc.\"}, status_code=404)\n",
    "\n",
    "    # Tính toán độ tương tự giữa sách trong lịch sử đọc\n",
    "    history_cosine_sim = cosine_sim[history_indices]\n",
    "    # Lấy trung bình các độ tương tự\n",
    "    mean_sim_scores = history_cosine_sim.mean(axis=0)\n",
    "    # Lấy top N sách tương tự\n",
    "    book_indices = mean_sim_scores.argsort()[::-1][:num_recommendations]\n",
    "    results = df.iloc[book_indices][['Book', 'Author', 'Genres', 'Description']].to_dict(orient='records')\n",
    "    return {\"recommendations\": results}"
   ]
  },
  {
   "cell_type": "code",
   "execution_count": 10,
   "id": "a3a26e71",
   "metadata": {},
   "outputs": [
    {
     "name": "stdout",
     "output_type": "stream",
     "text": [
      "Book recommendation service is running...\n",
      "Received request to recommend books similar to: Harry Potter and the Philosopher’s Stone (Harry Potter, #1) with 10 recommendations.\n",
      "0.018161296844482422 seconds to recommend books\n"
     ]
    }
   ],
   "source": [
    "import time\n",
    "print(\"Book recommendation service is running...\")\n",
    "start_timing = time.time()\n",
    "result = recommend_books(title=\"Harry Potter and the Philosopher’s Stone (Harry Potter, #1)\", num_recommendations=10)\n",
    "end_timing = time.time()\n",
    "print(end_timing - start_timing, \"seconds to recommend books\")"
   ]
  },
  {
   "cell_type": "code",
   "execution_count": 11,
   "id": "61a3dd53",
   "metadata": {},
   "outputs": [
    {
     "name": "stdout",
     "output_type": "stream",
     "text": [
      "1. Harry Potter and the Goblet of Fire (Harry Potter, #4) - J.K. Rowling\n",
      "2. Harry Potter and the Chamber of Secrets (Harry Potter, #2) - J.K. Rowling\n",
      "3. Harry Potter and the Prisoner of Azkaban (Harry Potter, #3) - J.K. Rowling\n",
      "4. Harry Potter and the Order of the Phoenix (Harry Potter, #5) - J.K. Rowling\n",
      "5. Harry Potter and the Cursed Child: Parts One and Two (Harry Potter, #8) - J.K. Rowling\n",
      "6. Harry Potter and the Half-Blood Prince (Harry Potter, #6) - J.K. Rowling\n",
      "7. Harry Potter and the Order of the Phoenix (Harry Potter, #5, Part 1) - J.K. Rowling\n",
      "8. Quidditch Through the Ages - Kennilworthy Whisp\n",
      "9. Harry Potter and the Deathly Hallows (Harry Potter, #7) - J.K. Rowling\n",
      "10. The First Fifteen Lives of Harry August - Claire North\n"
     ]
    }
   ],
   "source": [
    "for index, value in enumerate(result['recommendations']):\n",
    "    print(f\"{index + 1}. {value['Book']} - {value['Author']}\")"
   ]
  },
  {
   "cell_type": "code",
   "execution_count": 9,
   "id": "9ae6b822",
   "metadata": {},
   "outputs": [
    {
     "name": "stdout",
     "output_type": "stream",
     "text": [
      "1. Pride and Prejudice and Zombies (Pride and Prejudice and Zombies, #1) - Seth Grahame-Smith\n",
      "2. Austenland (Austenland, #1) - Shannon Hale\n",
      "3. The Complete Novels - Jane Austen\n",
      "4. Pride and Prejudice, Mansfield Park, Persuasion - Jane Austen\n",
      "5. Dawn of the Dreadfuls (Pride and Prejudice and Zombies, #0.5) - Steve Hockensmith\n",
      "6. Jane Austen: A Life - Claire Tomalin\n",
      "7. Eligible: A Modern Retelling of Pride & Prejudice - Curtis Sittenfeld\n",
      "8. Persuasion - Jane Austen\n",
      "9. The Jane Austen Book Club - Karen Joy Fowler\n",
      "10. Jane Eyre - Charlotte Brontë\n"
     ]
    }
   ],
   "source": [
    "for index, value in enumerate(result['recommendations']):\n",
    "    print(f\"{index + 1}. {value['Book']} - {value['Author']}\")"
   ]
  },
  {
   "cell_type": "code",
   "execution_count": 7,
   "id": "5000f91c",
   "metadata": {},
   "outputs": [
    {
     "name": "stdout",
     "output_type": "stream",
     "text": [
      "1. Go Set a Watchman - Harper Lee\n",
      "2. Harper Lee's To Kill a Mockingbird - Harold Bloom\n",
      "3. Return to the Castle (Castle of Mysteries #2) - Julie-Anne Gamble\n",
      "4. The Chronicles of Prydain (The Chronicles of Prydain #1-5) - Lloyd Alexander\n",
      "5. Discovery of a Hidden Castle (A Gypsy Curse #1) - Julie-Anne Gamble\n",
      "6. Castle of Mysteries Three: The Complete Series - Julie-Anne Gamble\n",
      "7. Dreamscape - Rose Anderson\n",
      "8. Mockingbird - Walter Tevis\n",
      "9. Amazing Grief A Healing Guide for Parents of Young Addicts - Charles Harper\n",
      "10. The 5 Love Languages: The Secret to Love that Lasts - Gary Chapman\n"
     ]
    }
   ],
   "source": [
    "for index, value in enumerate(result['recommendations']):\n",
    "    print(f\"{index + 1}. {value['Book']} - {value['Author']}\")"
   ]
  }
 ],
 "metadata": {
  "kernelspec": {
   "display_name": "Python 3",
   "language": "python",
   "name": "python3"
  },
  "language_info": {
   "codemirror_mode": {
    "name": "ipython",
    "version": 3
   },
   "file_extension": ".py",
   "mimetype": "text/x-python",
   "name": "python",
   "nbconvert_exporter": "python",
   "pygments_lexer": "ipython3",
   "version": "3.10.0"
  }
 },
 "nbformat": 4,
 "nbformat_minor": 5
}
